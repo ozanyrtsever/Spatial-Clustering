{
 "cells": [
  {
   "cell_type": "code",
   "execution_count": 2,
   "metadata": {},
   "outputs": [
    {
     "name": "stderr",
     "output_type": "stream",
     "text": [
      "C:\\Users\\user\\anaconda3\\lib\\site-packages\\pysal\\model\\spvcm\\abstracts.py:10: UserWarning: The `dill` module is required to use the sqlite backend fully.\n",
      "  from .sqlite import head_to_sql, start_sql\n"
     ]
    }
   ],
   "source": [
    "%matplotlib inline\n",
    "\n",
    "import seaborn as sns\n",
    "import matplotlib.pyplot as plt\n",
    "import numpy as np\n",
    "import pandas as pd\n",
    "import pysal as ps\n",
    "import geopandas as gpd\n",
    "from sklearn import cluster\n",
    "from sklearn.preprocessing import scale\n",
    "from libpysal.weights import Queen\n",
    "\n",
    "import libpysal\n",
    "from libpysal import examples\n",
    "import os\n",
    "import region as rg\n",
    "from pysal.viz.splot.libpysal import plot_spatial_weights\n",
    "from libpysal.weights import Queen, Rook\n",
    "from region.max_p_regions.heuristics import MaxPRegionsHeu\n",
    "from region.p_regions.azp import AZPBasicTabu\n",
    "import math\n",
    "\n",
    "\n",
    "sns.set(style=\"whitegrid\")"
   ]
  },
  {
   "cell_type": "code",
   "execution_count": 6,
   "metadata": {},
   "outputs": [],
   "source": [
    "abb_link = 'C:\\\\Users\\\\user\\\\Desktop\\\\Arastirma Gorevi\\\\kodlar\\\\data_phyton\\\\data_codes.csv'\n",
    "zc_link = 'C:\\\\Users\\\\user\\\\Desktop\\\\Arastirma Gorevi\\\\Benim oluşturduğum datalar\\\\map.geojson'"
   ]
  },
  {
   "cell_type": "code",
   "execution_count": 7,
   "metadata": {},
   "outputs": [],
   "source": [
    "lst=pd.read_csv(abb_link)\n"
   ]
  },
  {
   "cell_type": "code",
   "execution_count": 8,
   "metadata": {},
   "outputs": [],
   "source": [
    "zc = gpd.read_file(zc_link)\n",
    "\n"
   ]
  },
  {
   "cell_type": "code",
   "execution_count": 9,
   "metadata": {},
   "outputs": [],
   "source": [
    "price=[i for i in lst if 'price-' in i]"
   ]
  },
  {
   "cell_type": "code",
   "execution_count": 10,
   "metadata": {},
   "outputs": [],
   "source": [
    "#daily_price = lst.mean(axis=1)\n",
    "\n",
    "#lst['daily_price']=daily_price\n",
    "\n",
    "#daily_price=[i for i in lst if 'daily_price' in i]\n",
    "#daily_price\n",
    "\n",
    "rt_av = lst.groupby('zipcode')[price]\\\n",
    ".mean()\n",
    "\n"
   ]
  },
  {
   "cell_type": "code",
   "execution_count": 11,
   "metadata": {},
   "outputs": [],
   "source": [
    "zrt = zc[['geometry','zipcode']].join(rt_av,on='zipcode')\\\n",
    "                                 .dropna()\n"
   ]
  },
  {
   "cell_type": "code",
   "execution_count": 12,
   "metadata": {},
   "outputs": [],
   "source": [
    "zrt.to_file('tnp')\n",
    "gdf=gpd.read_file('C:\\\\Users\\\\user\\\\Desktop\\\\Arastirma Gorevi\\\\tnp\\\\tnp.shp')\n",
    "w_queen=Queen.from_dataframe(gdf)\n",
    "w_rook=Rook.from_dataframe(gdf)\n",
    "\n"
   ]
  },
  {
   "cell_type": "code",
   "execution_count": 13,
   "metadata": {},
   "outputs": [],
   "source": [
    "thr=[]\n",
    "thr_katsayisi=[0.01,0.02,0.03,0.04,0.05,0.1,0.11,0.12,0.13,0.14,0.15,0.2]\n",
    "\n",
    "\n",
    "#thr_katsayisi=0.25\n",
    "#thr_=thr_katsayisi*rt_av.sum()\n",
    "#thr_mean=thr_.mean()\n",
    "#thr=[]\n",
    "#thr2=[]\n",
    "#thr_farkli=[]\n",
    "#for i in range(24):\n",
    "#    thr2.append(thr_mean)\n",
    "#for i in range(24):\n",
    "#    thr.append(math.ceil(thr2[i]))\n",
    "#for i in range(24):\n",
    "#    thr_farkli.append(math.ceil(thr_[i]))\n",
    "#print(thr_farkli)\n",
    "\n",
    "#print(thr)"
   ]
  },
  {
   "cell_type": "code",
   "execution_count": 14,
   "metadata": {},
   "outputs": [],
   "source": [
    "z = zrt.drop(['geometry', 'zipcode'], axis=1).values\n"
   ]
  },
  {
   "cell_type": "code",
   "execution_count": null,
   "metadata": {},
   "outputs": [
    {
     "name": "stdout",
     "output_type": "stream",
     "text": [
      "[[16, 18, 19, 18, 12, 12, 18, 23, 24, 20, 20, 19, 17, 19, 19, 18, 18, 18, 13, 12, 15, 18, 19, 11]]\n",
      "[50.0]\n",
      "[[32, 37, 38, 37, 23, 24, 37, 45, 48, 41, 41, 39, 33, 39, 39, 37, 36, 36, 25, 24, 30, 37, 38, 23]]\n",
      "[50.0, 28.0]\n",
      "[[48, 55, 56, 55, 35, 36, 55, 68, 72, 61, 61, 58, 50, 58, 58, 55, 54, 54, 38, 36, 44, 55, 57, 34]]\n",
      "[50.0, 28.0, 18.0]\n",
      "[[64, 74, 75, 74, 47, 48, 74, 91, 97, 81, 82, 78, 67, 78, 77, 74, 72, 71, 51, 48, 59, 73, 75, 45]]\n",
      "[50.0, 28.0, 18.0, 15.0]\n",
      "[[80, 92, 94, 92, 58, 60, 92, 114, 121, 101, 102, 97, 83, 97, 97, 92, 90, 89, 64, 59, 74, 92, 94, 57]]\n",
      "[50.0, 28.0, 18.0, 15.0, 11.0]\n",
      "[[159, 184, 188, 185, 117, 121, 185, 227, 241, 203, 205, 195, 166, 194, 193, 184, 181, 179, 127, 119, 148, 183, 189, 113]]\n",
      "[50.0, 28.0, 18.0, 15.0, 11.0, 5.0]\n",
      "[[175, 203, 207, 203, 129, 133, 203, 250, 266, 223, 225, 214, 183, 213, 213, 202, 199, 197, 140, 131, 163, 201, 207, 125]]\n",
      "[50.0, 28.0, 18.0, 15.0, 11.0, 5.0, 5.0]\n",
      "[[191, 221, 225, 222, 140, 145, 222, 273, 290, 243, 245, 234, 200, 233, 232, 221, 217, 214, 153, 143, 178, 220, 226, 136]]\n",
      "[50.0, 28.0, 18.0, 15.0, 11.0, 5.0, 5.0, 4.0]\n",
      "[[207, 239, 244, 240, 152, 157, 240, 296, 314, 264, 266, 253, 216, 252, 251, 239, 235, 232, 165, 154, 193, 238, 245, 147]]\n",
      "[50.0, 28.0, 18.0, 15.0, 11.0, 5.0, 5.0, 4.0, 4.0]\n",
      "[[223, 258, 263, 259, 164, 169, 259, 318, 338, 284, 286, 273, 233, 271, 271, 257, 253, 250, 178, 166, 208, 256, 264, 159]]\n",
      "[50.0, 28.0, 18.0, 15.0, 11.0, 5.0, 5.0, 4.0, 4.0, 4.0]\n",
      "[[239, 276, 282, 277, 175, 181, 277, 341, 362, 304, 307, 292, 250, 291, 290, 276, 271, 268, 191, 178, 222, 275, 283, 170]]\n",
      "[50.0, 28.0, 18.0, 15.0, 11.0, 5.0, 5.0, 4.0, 4.0, 4.0, 4.0]\n"
     ]
    }
   ],
   "source": [
    "model_q = MaxPRegionsHeu(random_state=1)\n",
    "label_num=[]\n",
    "for i in range(12):\n",
    "    thr.append([round(x) for x in thr_katsayisi[i]*rt_av.sum()]) \n",
    "    model_q.fit_from_w(w_queen,z,rt_av.values[:, None], thr)\n",
    "    print(thr)\n",
    "    thr.clear()\n",
    "    label_num.append(max(model_q.labels_)+1)\n",
    "    print(label_num)\n"
   ]
  },
  {
   "cell_type": "code",
   "execution_count": 7,
   "metadata": {},
   "outputs": [
    {
     "ename": "NameError",
     "evalue": "name 'thr_katsayisi' is not defined",
     "output_type": "error",
     "traceback": [
      "\u001b[1;31m---------------------------------------------------------------------------\u001b[0m",
      "\u001b[1;31mNameError\u001b[0m                                 Traceback (most recent call last)",
      "\u001b[1;32m<ipython-input-7-e57f12561666>\u001b[0m in \u001b[0;36m<module>\u001b[1;34m\u001b[0m\n\u001b[1;32m----> 1\u001b[1;33m \u001b[0mplt\u001b[0m\u001b[1;33m.\u001b[0m\u001b[0mplot\u001b[0m\u001b[1;33m(\u001b[0m\u001b[0mthr_katsayisi\u001b[0m\u001b[1;33m,\u001b[0m\u001b[0mlabel_num\u001b[0m\u001b[1;33m)\u001b[0m\u001b[1;33m\u001b[0m\u001b[1;33m\u001b[0m\u001b[0m\n\u001b[0m",
      "\u001b[1;31mNameError\u001b[0m: name 'thr_katsayisi' is not defined"
     ]
    }
   ],
   "source": [
    "plt.plot(thr_katsayisi,label_num)"
   ]
  },
  {
   "cell_type": "code",
   "execution_count": 8,
   "metadata": {},
   "outputs": [
    {
     "ename": "NameError",
     "evalue": "name 'thr_katsayisi' is not defined",
     "output_type": "error",
     "traceback": [
      "\u001b[1;31m---------------------------------------------------------------------------\u001b[0m",
      "\u001b[1;31mNameError\u001b[0m                                 Traceback (most recent call last)",
      "\u001b[1;32m<ipython-input-8-19325924f5dd>\u001b[0m in \u001b[0;36m<module>\u001b[1;34m\u001b[0m\n\u001b[1;32m----> 1\u001b[1;33m plt.plot(thr_katsayisi,label_num , linewidth = 3, \n\u001b[0m\u001b[0;32m      2\u001b[0m          marker='o', markerfacecolor='green', markersize=10) \n",
      "\u001b[1;31mNameError\u001b[0m: name 'thr_katsayisi' is not defined"
     ]
    }
   ],
   "source": [
    "plt.plot(thr_katsayisi,label_num , linewidth = 3, \n",
    "         marker='o', markerfacecolor='green', markersize=10) "
   ]
  },
  {
   "cell_type": "code",
   "execution_count": 9,
   "metadata": {},
   "outputs": [],
   "source": [
    "#model_r =MaxPRegionsHeu(random_state=2)\n",
    "#model_r.fit_from_w(w_rook,z,rt_av.values[:,None],thr_farkli)\n"
   ]
  },
  {
   "cell_type": "code",
   "execution_count": 14,
   "metadata": {},
   "outputs": [],
   "source": [
    "#gdf.plot(column = model_q.labels_, categorical = True, figsize = (15, 15), legend = True)"
   ]
  },
  {
   "cell_type": "code",
   "execution_count": 15,
   "metadata": {},
   "outputs": [],
   "source": [
    "#gdf.plot(column = model_r.labels_, categorical = True, figsize = (15, 15), legend = True)"
   ]
  },
  {
   "cell_type": "code",
   "execution_count": null,
   "metadata": {},
   "outputs": [],
   "source": []
  }
 ],
 "metadata": {
  "kernelspec": {
   "display_name": "Python 3",
   "language": "python",
   "name": "python3"
  },
  "language_info": {
   "codemirror_mode": {
    "name": "ipython",
    "version": 3
   },
   "file_extension": ".py",
   "mimetype": "text/x-python",
   "name": "python",
   "nbconvert_exporter": "python",
   "pygments_lexer": "ipython3",
   "version": "3.8.3"
  }
 },
 "nbformat": 4,
 "nbformat_minor": 4
}
