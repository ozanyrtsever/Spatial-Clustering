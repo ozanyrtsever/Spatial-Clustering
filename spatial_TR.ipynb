{
 "cells": [
  {
   "cell_type": "code",
   "execution_count": 1,
   "metadata": {},
   "outputs": [
    {
     "ename": "SyntaxError",
     "evalue": "EOF while scanning triple-quoted string literal (<ipython-input-1-13b88862eb3d>, line 3)",
     "output_type": "error",
     "traceback": [
      "\u001b[1;36m  File \u001b[1;32m\"<ipython-input-1-13b88862eb3d>\"\u001b[1;36m, line \u001b[1;32m3\u001b[0m\n\u001b[1;33m    Created on Wed Sep 23 16:33:17 2020\u001b[0m\n\u001b[1;37m                                       \n^\u001b[0m\n\u001b[1;31mSyntaxError\u001b[0m\u001b[1;31m:\u001b[0m EOF while scanning triple-quoted string literal\n"
     ]
    }
   ],
   "source": [
    "# -*- coding: utf-8 -*-\n",
    "\"\"\"\n",
    "Created on Wed Sep 23 16:33:17 2020"
   ]
  },
  {
   "cell_type": "code",
   "execution_count": 2,
   "metadata": {},
   "outputs": [
    {
     "ename": "SyntaxError",
     "evalue": "invalid syntax (<ipython-input-2-f8f39467a08f>, line 1)",
     "output_type": "error",
     "traceback": [
      "\u001b[1;36m  File \u001b[1;32m\"<ipython-input-2-f8f39467a08f>\"\u001b[1;36m, line \u001b[1;32m1\u001b[0m\n\u001b[1;33m    @author: ka2461\u001b[0m\n\u001b[1;37m           ^\u001b[0m\n\u001b[1;31mSyntaxError\u001b[0m\u001b[1;31m:\u001b[0m invalid syntax\n"
     ]
    }
   ],
   "source": [
    "@author: ka2461\n",
    "\"\"\""
   ]
  },
  {
   "cell_type": "code",
   "execution_count": 55,
   "metadata": {},
   "outputs": [],
   "source": [
    "%matplotlib inline\n",
    "\n",
    "import seaborn as sns\n",
    "import matplotlib.pyplot as plt\n",
    "import numpy as np\n",
    "import pandas as pd\n",
    "import pysal as ps\n",
    "import geopandas as gpd\n",
    "from sklearn import cluster\n",
    "from sklearn.preprocessing import scale"
   ]
  },
  {
   "cell_type": "code",
   "execution_count": 56,
   "metadata": {},
   "outputs": [],
   "source": [
    "sns.set(style=\"whitegrid\")"
   ]
  },
  {
   "cell_type": "code",
   "execution_count": 57,
   "metadata": {},
   "outputs": [],
   "source": [
    "abb_link = 'C:\\\\Users\\\\user\\\\Desktop\\\\Arastirma Gorevi\\\\kodlar\\\\data_phyton\\\\data_codes.csv'\n",
    "zc_link = 'C:\\\\Users\\\\user\\\\Desktop\\\\Arastirma Gorevi\\\\kodlar\\\\data_phyton\\\\lvl1-TR.geojson'"
   ]
  },
  {
   "cell_type": "code",
   "execution_count": 58,
   "metadata": {},
   "outputs": [],
   "source": [
    "lst = pd.read_csv(abb_link)\n",
    "lst.zipcode.astype(int)\n",
    "  \n",
    "varis = ['price-9']\n",
    "aves = lst.groupby('zipcode')[varis].mean() "
   ]
  },
  {
   "cell_type": "code",
   "execution_count": 59,
   "metadata": {},
   "outputs": [
    {
     "data": {
      "image/png": "[encoded data removed]",
      "text/plain": [
       "<Figure size 432x288 with 1 Axes>"
      ]
     },
     "metadata": {},
     "output_type": "display_data"
    }
   ],
   "source": [
    "\n",
    "zc = gpd.read_file(zc_link)\n",
    "zc.plot(color='red');"
   ]
  },
  {
   "cell_type": "code",
   "execution_count": 91,
   "metadata": {},
   "outputs": [
    {
     "data": {
      "text/plain": [
       "KMeans(n_clusters=5)"
      ]
     },
     "execution_count": 91,
     "metadata": {},
     "output_type": "execute_result"
    }
   ],
   "source": [
    "zdb = zc[['geometry', 'zipcode', 'Name']].join(aves, on='zipcode')\\\n",
    "                                         .dropna()\n",
    "\n",
    "km5 = cluster.KMeans(n_clusters=5)\n",
    "km5cls = km5.fit(zdb.drop(['geometry', 'Name'], axis=1).values)\n",
    "km5cls.fit(aves)\n"
   ]
  },
  {
   "cell_type": "code",
   "execution_count": 96,
   "metadata": {},
   "outputs": [
    {
     "name": "stdout",
     "output_type": "stream",
     "text": [
      "KMeans Method with 5 cluster\n",
      "\n",
      "Label 0 Average Value:  42.173459864\n",
      "Label 1 Average Value:  17.527863992096773\n",
      "Label 2 Average Value:  64.15839033714285\n",
      "Label 3 Average Value:  24.41226881576923\n",
      "Label 4 Average Value:  52.12427849428572\n"
     ]
    }
   ],
   "source": [
    "\n",
    "\n",
    "df1 = pd.DataFrame(zrt.drop(columns='geometry'))\n",
    "df1['Labels'] = km5cls.labels_\n",
    "list_0=[]\n",
    "list_1=[]\n",
    "list_2=[]\n",
    "list_3=[]\n",
    "list_4=[]\n",
    "\n",
    "list_sum=[]\n",
    "for j in range(len(df1)):\n",
    "    if(df1['Labels'].iloc[j]==0):\n",
    "\n",
    "        list_0.append(df1[\"price-9\"].iloc[j].mean())\n",
    "\n",
    "    elif(df1['Labels'].iloc[j]==1):\n",
    "\n",
    "        list_1.append(df1[\"price-9\"].iloc[j].mean())\n",
    "\n",
    "    elif(df1['Labels'].iloc[j]==2):\n",
    "\n",
    "        list_2.append(df1[\"price-9\"].iloc[j].mean())\n",
    "\n",
    "    elif(df1['Labels'].iloc[j]==3):\n",
    "\n",
    "        list_3.append(df1[\"price-9\"].iloc[j].mean())\n",
    "    elif(df1['Labels'].iloc[j]==4):\n",
    "         list_4.append(df1[\"price-9\"].iloc[j].mean())\n",
    "            \n",
    "print(\"KMeans Method with 5 cluster\")\n",
    "print()\n",
    "print(\"Label 0 Average Value: \",np.mean(list_0))\n",
    "print(\"Label 1 Average Value: \",np.mean(list_1))\n",
    "print(\"Label 2 Average Value: \",np.mean(list_2))\n",
    "print(\"Label 3 Average Value: \",np.mean(list_3))\n",
    "print(\"Label 4 Average Value: \",np.mean(list_4))\n"
   ]
  },
  {
   "cell_type": "code",
   "execution_count": 97,
   "metadata": {},
   "outputs": [
    {
     "name": "stdout",
     "output_type": "stream",
     "text": [
      "KMeans Method with 2 cluster\n",
      "\n",
      "Label 0 Average Value:  20.928155022844827\n",
      "Label 1 Average Value:  52.17230704782608\n"
     ]
    }
   ],
   "source": [
    "km2 = cluster.KMeans(n_clusters=2)\n",
    "km2cls = km2.fit(zdb.drop(['geometry', 'Name'], axis=1).values)\n",
    "km2cls.fit(aves)\n",
    "df2 = pd.DataFrame(zrt.drop(columns='geometry'))\n",
    "df2['Labels'] = km2cls.labels_\n",
    "list_0=[]\n",
    "list_1=[]\n",
    "list_2=[]\n",
    "list_3=[]\n",
    "list_4=[]\n",
    "\n",
    "list_sum=[]\n",
    "for j in range(len(df2)):\n",
    "    if(df2['Labels'].iloc[j]==0):\n",
    "\n",
    "        list_0.append(df2[\"price-9\"].iloc[j].mean())\n",
    "\n",
    "    elif(df2['Labels'].iloc[j]==1):\n",
    "\n",
    "        list_1.append(df2[\"price-9\"].iloc[j].mean())\n",
    "        \n",
    "print(\"KMeans Method with 2 cluster\")\n",
    "print()\n",
    "print(\"Label 0 Average Value: \",np.mean(list_0))\n",
    "print(\"Label 1 Average Value: \",np.mean(list_1))\n",
    "\n"
   ]
  },
  {
   "cell_type": "code",
   "execution_count": 98,
   "metadata": {},
   "outputs": [
    {
     "name": "stdout",
     "output_type": "stream",
     "text": [
      "KMeans Method with 3 cluster\n",
      "\n",
      "Label 0 Average Value:  20.668118823947367\n",
      "Label 1 Average Value:  44.89775938733333\n",
      "Label 2 Average Value:  62.47187662777779\n"
     ]
    }
   ],
   "source": [
    "km3 = cluster.KMeans(n_clusters=3)\n",
    "km3cls = km3.fit(zdb.drop(['geometry', 'Name'], axis=1).values)\n",
    "km3cls.fit(aves)\n",
    "df3 = pd.DataFrame(zrt.drop(columns='geometry'))\n",
    "df3['Labels'] = km3cls.labels_\n",
    "list_0=[]\n",
    "list_1=[]\n",
    "list_2=[]\n",
    "\n",
    "list_sum=[]\n",
    "for j in range(len(df3)):\n",
    "    if(df3['Labels'].iloc[j]==0):\n",
    "\n",
    "        list_0.append(df3[\"price-9\"].iloc[j].mean())\n",
    "\n",
    "    elif(df3['Labels'].iloc[j]==1):\n",
    "\n",
    "        list_1.append(df3[\"price-9\"].iloc[j].mean())\n",
    "    elif(df3['Labels'].iloc[j]==2):\n",
    "\n",
    "        list_2.append(df3[\"price-9\"].iloc[j].mean())\n",
    "\n",
    "print(\"KMeans Method with 3 cluster\")\n",
    "print()\n",
    "print(\"Label 0 Average Value: \",np.mean(list_0))\n",
    "print(\"Label 1 Average Value: \",np.mean(list_1))\n",
    "print(\"Label 2 Average Value: \",np.mean(list_2))"
   ]
  },
  {
   "cell_type": "code",
   "execution_count": 27,
   "metadata": {},
   "outputs": [
    {
     "ename": "AttributeError",
     "evalue": "module 'pysal' has no attribute 'queen_from_shapefile'",
     "output_type": "error",
     "traceback": [
      "\u001b[1;31m---------------------------------------------------------------------------\u001b[0m",
      "\u001b[1;31mAttributeError\u001b[0m                            Traceback (most recent call last)",
      "\u001b[1;32m<ipython-input-27-8d5424dd9295>\u001b[0m in \u001b[0;36m<module>\u001b[1;34m\u001b[0m\n\u001b[0;32m      1\u001b[0m \u001b[0mzrt\u001b[0m \u001b[1;33m=\u001b[0m \u001b[0mzdb\u001b[0m\u001b[1;33m\u001b[0m\u001b[1;33m\u001b[0m\u001b[0m\n\u001b[0;32m      2\u001b[0m \u001b[0mzrt\u001b[0m\u001b[1;33m.\u001b[0m\u001b[0mto_file\u001b[0m\u001b[1;33m(\u001b[0m\u001b[1;34m'tmp'\u001b[0m\u001b[1;33m)\u001b[0m\u001b[1;33m\u001b[0m\u001b[1;33m\u001b[0m\u001b[0m\n\u001b[1;32m----> 3\u001b[1;33m \u001b[0mw\u001b[0m \u001b[1;33m=\u001b[0m \u001b[0mps\u001b[0m\u001b[1;33m.\u001b[0m\u001b[0mqueen_from_shapefile\u001b[0m\u001b[1;33m(\u001b[0m\u001b[1;34m'tmp/tmp.shp'\u001b[0m\u001b[1;33m,\u001b[0m \u001b[0midVariable\u001b[0m\u001b[1;33m=\u001b[0m\u001b[1;34m'zipcode'\u001b[0m\u001b[1;33m)\u001b[0m\u001b[1;33m\u001b[0m\u001b[1;33m\u001b[0m\u001b[0m\n\u001b[0m\u001b[0;32m      4\u001b[0m \u001b[1;31m# NOTE: this might not work on Windows\u001b[0m\u001b[1;33m\u001b[0m\u001b[1;33m\u001b[0m\u001b[1;33m\u001b[0m\u001b[0m\n\u001b[0;32m      5\u001b[0m \u001b[1;31m#! rm -r tmp\u001b[0m\u001b[1;33m\u001b[0m\u001b[1;33m\u001b[0m\u001b[1;33m\u001b[0m\u001b[0m\n",
      "\u001b[1;31mAttributeError\u001b[0m: module 'pysal' has no attribute 'queen_from_shapefile'"
     ]
    }
   ],
   "source": [
    "zrt = zdb\n",
    "zrt.to_file('tmp')\n",
    "w = ps.queen_from_shapefile('tmp/tmp.shp', idVariable='zipcode')\n",
    "# NOTE: this might not work on Windows\n",
    "#! rm -r tmp\n",
    "n_rev = aves\n",
    "p = np.ones((w.n,1), float)\n",
    "           \n",
    "thr = 30"
   ]
  },
  {
   "cell_type": "code",
   "execution_count": 31,
   "metadata": {},
   "outputs": [],
   "source": [
    "np.random.seed(1234)"
   ]
  },
  {
   "cell_type": "code",
   "execution_count": 32,
   "metadata": {},
   "outputs": [
    {
     "ename": "AttributeError",
     "evalue": "module 'pysal' has no attribute 'region'",
     "output_type": "error",
     "traceback": [
      "\u001b[1;31m---------------------------------------------------------------------------\u001b[0m",
      "\u001b[1;31mAttributeError\u001b[0m                            Traceback (most recent call last)",
      "\u001b[1;32m<ipython-input-32-1519d896383d>\u001b[0m in \u001b[0;36m<module>\u001b[1;34m\u001b[0m\n\u001b[0;32m      1\u001b[0m \u001b[0mz\u001b[0m \u001b[1;33m=\u001b[0m \u001b[0mzrt\u001b[0m\u001b[1;33m.\u001b[0m\u001b[0mdrop\u001b[0m\u001b[1;33m(\u001b[0m\u001b[1;33m[\u001b[0m\u001b[1;34m'geometry'\u001b[0m\u001b[1;33m,\u001b[0m \u001b[1;34m'zipcode'\u001b[0m\u001b[1;33m,\u001b[0m\u001b[1;34m'Name'\u001b[0m\u001b[1;33m]\u001b[0m\u001b[1;33m,\u001b[0m \u001b[0maxis\u001b[0m\u001b[1;33m=\u001b[0m\u001b[1;36m1\u001b[0m\u001b[1;33m)\u001b[0m\u001b[1;33m.\u001b[0m\u001b[0mvalues\u001b[0m\u001b[1;33m\u001b[0m\u001b[1;33m\u001b[0m\u001b[0m\n\u001b[1;32m----> 2\u001b[1;33m \u001b[0mmaxp\u001b[0m \u001b[1;33m=\u001b[0m \u001b[0mps\u001b[0m\u001b[1;33m.\u001b[0m\u001b[0mregion\u001b[0m\u001b[1;33m.\u001b[0m\u001b[0mMaxp\u001b[0m\u001b[1;33m(\u001b[0m\u001b[0mw\u001b[0m\u001b[1;33m,\u001b[0m \u001b[0mz\u001b[0m\u001b[1;33m,\u001b[0m \u001b[0mthr\u001b[0m\u001b[1;33m,\u001b[0m \u001b[0mn_rev\u001b[0m\u001b[1;33m.\u001b[0m\u001b[0mvalues\u001b[0m\u001b[1;33m[\u001b[0m\u001b[1;33m:\u001b[0m\u001b[1;33m,\u001b[0m \u001b[1;32mNone\u001b[0m\u001b[1;33m]\u001b[0m\u001b[1;33m,\u001b[0m \u001b[0minitial\u001b[0m\u001b[1;33m=\u001b[0m\u001b[1;36m40\u001b[0m\u001b[1;33m)\u001b[0m\u001b[1;33m\u001b[0m\u001b[1;33m\u001b[0m\u001b[0m\n\u001b[0m",
      "\u001b[1;31mAttributeError\u001b[0m: module 'pysal' has no attribute 'region'"
     ]
    }
   ],
   "source": [
    "z = zrt.drop(['geometry', 'zipcode','Name'], axis=1).values\n",
    "maxp = ps.region.Maxp(w, z, thr, n_rev.values[:, None], initial=40)"
   ]
  },
  {
   "cell_type": "code",
   "execution_count": 33,
   "metadata": {},
   "outputs": [
    {
     "ename": "NameError",
     "evalue": "name 'maxp' is not defined",
     "output_type": "error",
     "traceback": [
      "\u001b[1;31m---------------------------------------------------------------------------\u001b[0m",
      "\u001b[1;31mNameError\u001b[0m                                 Traceback (most recent call last)",
      "\u001b[1;32m<ipython-input-33-de264c83e4f2>\u001b[0m in \u001b[0;36m<module>\u001b[1;34m\u001b[0m\n\u001b[0;32m      1\u001b[0m \u001b[0mnp\u001b[0m\u001b[1;33m.\u001b[0m\u001b[0mrandom\u001b[0m\u001b[1;33m.\u001b[0m\u001b[0mseed\u001b[0m\u001b[1;33m(\u001b[0m\u001b[1;36m1234\u001b[0m\u001b[1;33m)\u001b[0m\u001b[1;33m\u001b[0m\u001b[1;33m\u001b[0m\u001b[0m\n\u001b[1;32m----> 2\u001b[1;33m \u001b[0mmaxp\u001b[0m\u001b[1;33m.\u001b[0m\u001b[0mcinference\u001b[0m\u001b[1;33m(\u001b[0m\u001b[0mnperm\u001b[0m\u001b[1;33m=\u001b[0m\u001b[1;36m999\u001b[0m\u001b[1;33m)\u001b[0m\u001b[1;33m\u001b[0m\u001b[1;33m\u001b[0m\u001b[0m\n\u001b[0m\u001b[0;32m      3\u001b[0m \u001b[0mmaxp\u001b[0m\u001b[1;33m.\u001b[0m\u001b[0mcpvalue\u001b[0m\u001b[1;33m\u001b[0m\u001b[1;33m\u001b[0m\u001b[0m\n",
      "\u001b[1;31mNameError\u001b[0m: name 'maxp' is not defined"
     ]
    }
   ],
   "source": [
    "np.random.seed(1234)\n",
    "maxp.cinference(nperm=999)\n",
    "maxp.cpvalue"
   ]
  },
  {
   "cell_type": "code",
   "execution_count": 34,
   "metadata": {},
   "outputs": [
    {
     "ename": "NameError",
     "evalue": "name 'maxp' is not defined",
     "output_type": "error",
     "traceback": [
      "\u001b[1;31m---------------------------------------------------------------------------\u001b[0m",
      "\u001b[1;31mNameError\u001b[0m                                 Traceback (most recent call last)",
      "\u001b[1;32m<ipython-input-34-01cd9f83050e>\u001b[0m in \u001b[0;36m<module>\u001b[1;34m\u001b[0m\n\u001b[1;32m----> 1\u001b[1;33m \u001b[0mlbls\u001b[0m \u001b[1;33m=\u001b[0m \u001b[0mpd\u001b[0m\u001b[1;33m.\u001b[0m\u001b[0mSeries\u001b[0m\u001b[1;33m(\u001b[0m\u001b[0mmaxp\u001b[0m\u001b[1;33m.\u001b[0m\u001b[0marea2region\u001b[0m\u001b[1;33m)\u001b[0m\u001b[1;33m.\u001b[0m\u001b[0mreindex\u001b[0m\u001b[1;33m(\u001b[0m\u001b[0mzrt\u001b[0m\u001b[1;33m[\u001b[0m\u001b[1;34m'zipcode'\u001b[0m\u001b[1;33m]\u001b[0m\u001b[1;33m)\u001b[0m\u001b[1;33m\u001b[0m\u001b[1;33m\u001b[0m\u001b[0m\n\u001b[0m\u001b[0;32m      2\u001b[0m \u001b[0mf\u001b[0m\u001b[1;33m,\u001b[0m \u001b[0max\u001b[0m \u001b[1;33m=\u001b[0m \u001b[0mplt\u001b[0m\u001b[1;33m.\u001b[0m\u001b[0msubplots\u001b[0m\u001b[1;33m(\u001b[0m\u001b[1;36m1\u001b[0m\u001b[1;33m,\u001b[0m \u001b[0mfigsize\u001b[0m\u001b[1;33m=\u001b[0m\u001b[1;33m(\u001b[0m\u001b[1;36m9\u001b[0m\u001b[1;33m,\u001b[0m \u001b[1;36m9\u001b[0m\u001b[1;33m)\u001b[0m\u001b[1;33m)\u001b[0m\u001b[1;33m\u001b[0m\u001b[1;33m\u001b[0m\u001b[0m\n",
      "\u001b[1;31mNameError\u001b[0m: name 'maxp' is not defined"
     ]
    }
   ],
   "source": [
    "lbls = pd.Series(maxp.area2region).reindex(zrt['zipcode'])\n",
    "f, ax = plt.subplots(1, figsize=(9, 9))"
   ]
  },
  {
   "cell_type": "code",
   "execution_count": 35,
   "metadata": {},
   "outputs": [
    {
     "ename": "NameError",
     "evalue": "name 'lbls' is not defined",
     "output_type": "error",
     "traceback": [
      "\u001b[1;31m---------------------------------------------------------------------------\u001b[0m",
      "\u001b[1;31mNameError\u001b[0m                                 Traceback (most recent call last)",
      "\u001b[1;32m<ipython-input-35-73b9c5dbe2d8>\u001b[0m in \u001b[0;36m<module>\u001b[1;34m\u001b[0m\n\u001b[1;32m----> 1\u001b[1;33m \u001b[0mzrt\u001b[0m\u001b[1;33m.\u001b[0m\u001b[0massign\u001b[0m\u001b[1;33m(\u001b[0m\u001b[0mcl\u001b[0m\u001b[1;33m=\u001b[0m\u001b[0mlbls\u001b[0m\u001b[1;33m.\u001b[0m\u001b[0mvalues\u001b[0m\u001b[1;33m)\u001b[0m\u001b[0;31m\\\u001b[0m\u001b[1;33m\u001b[0m\u001b[1;33m\u001b[0m\u001b[0m\n\u001b[0m\u001b[0;32m      2\u001b[0m    .plot(column='cl', categorical=True, legend=True, \\\n\u001b[0;32m      3\u001b[0m          linewidth=0.1, edgecolor='white', ax=ax)\n",
      "\u001b[1;31mNameError\u001b[0m: name 'lbls' is not defined"
     ]
    }
   ],
   "source": [
    "zrt.assign(cl=lbls.values)\\\n",
    "   .plot(column='cl', categorical=True, legend=True, \\\n",
    "         linewidth=0.1, edgecolor='white', ax=ax)"
   ]
  },
  {
   "cell_type": "code",
   "execution_count": 36,
   "metadata": {},
   "outputs": [],
   "source": [
    "ax.set_axis_off()"
   ]
  },
  {
   "cell_type": "code",
   "execution_count": 37,
   "metadata": {},
   "outputs": [],
   "source": [
    "plt.show()"
   ]
  }
 ],
 "metadata": {
  "kernelspec": {
   "display_name": "Python 3",
   "language": "python",
   "name": "python3"
  },
  "language_info": {
   "codemirror_mode": {
    "name": "ipython",
    "version": 3
   },
   "file_extension": ".py",
   "mimetype": "text/x-python",
   "name": "python",
   "nbconvert_exporter": "python",
   "pygments_lexer": "ipython3",
   "version": "3.8.3"
  }
 },
 "nbformat": 4,
 "nbformat_minor": 4
}
