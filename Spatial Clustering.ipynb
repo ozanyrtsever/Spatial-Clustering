{
 "cells": [
  {
   "cell_type": "code",
   "execution_count": null,
   "metadata": {
    "scrolled": true
   },
   "outputs": [],
   "source": [
    "%matplotlib inline\n",
    "\n",
    "import seaborn as sns\n",
    "import matplotlib.pyplot as plt\n",
    "import numpy as np\n",
    "import pandas as pd\n",
    "import pysal as ps\n",
    "import geopandas as gpd\n",
    "from sklearn import cluster\n",
    "from sklearn.preprocessing import scale\n",
    "from libpysal.weights import Queen\n",
    "from pysal import region\n",
    "import libpysal\n",
    "from libpysal import examples\n",
    "import os\n",
    "import region as rg\n",
    "\n",
    "sns.set(style=\"whitegrid\")\n"
   ]
  },
  {
   "cell_type": "code",
   "execution_count": null,
   "metadata": {
    "scrolled": true
   },
   "outputs": [],
   "source": [
    "abb_link = 'C:\\\\Users\\\\user\\\\Desktop\\\\datas\\\\listings.csv'\n",
    "zc_link = 'C:\\\\Users\\\\user\\\\Desktop\\\\datas\\\\Zipcodes.geojson'"
   ]
  },
  {
   "cell_type": "code",
   "execution_count": null,
   "metadata": {},
   "outputs": [],
   "source": [
    "lst=pd.read_csv(abb_link)  # abb_link ile bir data frame olusturduk"
   ]
  },
  {
   "cell_type": "code",
   "execution_count": null,
   "metadata": {},
   "outputs": [],
   "source": [
    "varis=['bedrooms','bathrooms','beds']"
   ]
  },
  {
   "cell_type": "code",
   "execution_count": null,
   "metadata": {},
   "outputs": [],
   "source": [
    "aves = lst.groupby('zipcode')[varis].mean()\n",
    "aves.info()\n",
    "# zipcode lara göre bedrooms,bathrooms,beds verilerini ayırıyor bir zipcode ile eşleşen sayıların ortalamasını alıyor\n",
    "# mesela 3000 zipcode lu evlerde ortalama 3 yatak var gibi sıralıyor"
   ]
  },
  {
   "cell_type": "code",
   "execution_count": null,
   "metadata": {},
   "outputs": [],
   "source": [
    "types = pd.get_dummies(lst['property_type']) # evlere göre property typeları ayırıyor.\n",
    "# eger bir ev villa ise villaya 1 yazıyor apartmana 0 yazıyor gibi \n",
    "prop_types = types.join(lst['zipcode']).groupby('zipcode').sum()  \n",
    "# .join icin => types diye tamamen farklı bir data seti yarattık. Bunu datamızda olan zipcodelarla birleştiriyoruz.\n",
    "# .groupby icin=> üstte yaptığımız gibi zipcodelara göre grupluyoruz\n",
    "# .sum icin=>  Bu sefer ortalamalarına değil toplamlaraına göre sıralıyoruz. Eger apartman ise apartman bloguna 1 yazmıştık. \n",
    "# Bunları toplayarak aslında bir zipcode da kaç apartman olduğunu görebiliyoruz.\n",
    "prop_types_pct = (prop_types * 100.).div(prop_types.sum(axis=1), axis=0) # div fonksiyonu icinde: \n",
    "# toplam apartman sayısını hesaplıyor daha sonra rowlara bölüyor. Yani bir zipcode da kaç apartman olma olasılığını yazıyor.\n",
    "# Hepsine bunu yapıyor (villa,bungalow vb.) \n",
    "prop_types_pct.info()"
   ]
  },
  {
   "cell_type": "code",
   "execution_count": null,
   "metadata": {},
   "outputs": [],
   "source": [
    "aves_props = aves.join(prop_types_pct)\n",
    "db = pd.DataFrame(\\\n",
    "                 scale(aves_props),index=aves_props.index,columns=aves_props.columns).rename(lambda x: str(int(x)))  \n",
    "#  scale() => dataları uygun distributionlara fitlemek için bir stanrdization yapılıyor burda. \n",
    "# Mesela normal distributiondan standard normal distribution a geçiş gibi. Veya binomial dan normal distributiona geçmek gibi.\n",
    "#  index =>indexlerin ismine index veriliyor\n",
    "#  columns => columnsların ismine columns veriliyor\n",
    "# .rename => veriler sıralanırken kullanılan 1,2,3,4... sayıları str olarak veiliyor."
   ]
  },
  {
   "cell_type": "code",
   "execution_count": null,
   "metadata": {},
   "outputs": [],
   "source": [
    "zc = gpd.read_file(zc_link)  \n",
    "# zc_link dosyasında geometrik datalar oluşturabilecek datalar var o yüzden geopandas ile okutuyoruz\n",
    "zc.plot(color='red');"
   ]
  },
  {
   "cell_type": "code",
   "execution_count": null,
   "metadata": {},
   "outputs": [],
   "source": [
    "zdb = zc[['geometry', 'zipcode', 'name']].join(db, on='zipcode').dropna()  # .dropna() => drops the null values\n",
    "                                                                        #join => zc ile db yi birlestiriyor.\n",
    "    \n",
    "                                         "
   ]
  },
  {
   "cell_type": "code",
   "execution_count": null,
   "metadata": {
    "scrolled": false
   },
   "outputs": [],
   "source": [
    "f, ax = plt.subplots(1, figsize=(9, 9))  # cıkacak görüntünün boyutunu figsize ile ayarlıyoruz\n",
    "\n",
    "zc.plot(color='grey', linewidth=0, ax=ax) \n",
    "# sınırların aralarındaki çizgilerin genişlikleri(belirginlikleri) linewidth ile ayarlanıyor\n",
    "zdb.plot(color='red', linewidth=0.1 , ax=ax)\n",
    "# ax bizim olusturdugumuz bir plot alanı. ax=ax yaparak ikisinide aynı alanda gösteriyoruz. \n",
    "# eğer birine yazmazsak başka bir alanda gösterilir.\n",
    "\n",
    "\n",
    "ax.set_axis_off()   # axisleri kapatıyor\n",
    "plt.show()  # plotu yazdırmak için \n",
    "# Ustte dusurdugumuz nulll degerleri bizim kaybettigimiz alanlar oluyor. \n",
    "# Zc bütün zipcodelara sahip ama zbd sadece bizim girdiğimiz verilerle sınırlı o yüzden kayıp yaşanıyor. \n",
    "# gri zc kırmızı zbd olarak plotlanıyor.\n",
    "    "
   ]
  },
  {
   "cell_type": "code",
   "execution_count": null,
   "metadata": {},
   "outputs": [],
   "source": [
    "km5 = cluster.KMeans(n_clusters=5) # 5 küme oluşturmasını söylüyoruz.\n"
   ]
  },
  {
   "cell_type": "code",
   "execution_count": null,
   "metadata": {},
   "outputs": [],
   "source": [
    "km5cls = km5.fit(zdb.drop(['geometry', 'name'], axis=1).values) \n",
    "# geometry ve name columnlarını dropluyor ve sadece values larını alıp KMeans ile fitliyor.\n",
    "#Rastgele 5 nokta belirliyor.\n",
    "#Dataların noktalara uzaklıkları alınıyor\n",
    "#Data hangi noktaya daha yakınsa o noktanın kümseine dahil oluyor\n",
    "#Kümelendikten sonra kümelerdeki dataların ortalamaları alınıyor.\n",
    "#Ortalamaya göre merkez noktası kayıyor ve aynı işlem baştan tekrar  gerçekleşiyor\n"
   ]
  },
  {
   "cell_type": "code",
   "execution_count": null,
   "metadata": {},
   "outputs": [],
   "source": [
    "f, ax = plt.subplots(1, figsize=(9, 9))\n",
    "\n",
    "zdb.assign(cl=km5cls.labels_)\\\n",
    "   .plot(column='cl', categorical=True,legend=True,\\\n",
    "         linewidth=0.1, edgecolor='white', ax=ax)\n",
    "#.assign () => dataların kmeans ile oluşturulmuş labellaarını yeni bir column (cl olarak adlandırıyor) oluşturarak dataya yazıyor.\n",
    "# cl column unu gösterecek şekilde plotlanıyor. \n",
    "#categorical 0-1-2-3-4 olarak categorize edilmesine yarıyor, legend ise sağ üstte bulunan göstergeyi açıyor.\n",
    "# kmeans in atamış olduğu labels lar rastgele atanıyor. önemli olan belirttiği alanlar.\n",
    "ax.set_axis_off() # axisleri kapatıyor\n",
    "\n",
    "plt.show()\n"
   ]
  },
  {
   "cell_type": "code",
   "execution_count": null,
   "metadata": {},
   "outputs": [],
   "source": [
    "cl_pcts = prop_types_pct.rename(lambda x: str(int(x)))\\\n",
    "                          .reindex(zdb['zipcode'])\\\n",
    "                          .assign(cl=km5cls.labels_)\\\n",
    "                          .groupby('cl')\\\n",
    "                          .mean()\n",
    "# burda kmeans ile dataları ayırmış olduğumuz labellara göre datayı sınıflandırıyor. Ortalamalarını alarak sıralıyor."
   ]
  },
  {
   "cell_type": "code",
   "execution_count": null,
   "metadata": {},
   "outputs": [],
   "source": [
    "f, ax = plt.subplots(1, figsize=(18, 9))\n",
    "cl_pcts.plot(kind='barh', stacked=True, ax=ax, \\\n",
    "            linewidth=0)\n",
    "ax.legend(ncol=1, loc=\"right\");\n",
    "# cmap Set2 yaptığımızda renkler çok yakın oluyor düzgün gözükmüyor o yüzden o kodu sildim.\n"
   ]
  },
  {
   "cell_type": "code",
   "execution_count": null,
   "metadata": {},
   "outputs": [],
   "source": [
    "ratings = [i for i in lst if 'review_scores_' in i]\n",
    "ratings\n",
    "# lst datasındaki rewiew_scores_ ile başlayan variable listelerini içine yazıyor"
   ]
  },
  {
   "cell_type": "code",
   "execution_count": null,
   "metadata": {},
   "outputs": [],
   "source": [
    "rt_av = lst.groupby('zipcode')[ratings]\\\n",
    "           .mean()\\\n",
    "           .rename(lambda x: str(int(x)))\n",
    "# Burda üstlerde yaptığımız gibi ratingsleri zipcode'a göre sıralıyor. \n",
    "# Sıralarken ratingslerin ortalamalarını alarak sıralıyor."
   ]
  },
  {
   "cell_type": "code",
   "execution_count": null,
   "metadata": {},
   "outputs": [],
   "source": [
    "zrt = zc[['geometry', 'zipcode']].join(rt_av, on='zipcode')\\\n",
    "                                 .dropna()\n",
    "zrt.info()\n",
    "# üstte oluşturduğumuz datayı zipcodeların geometrisiyle birleştiriyoruz. Bu sayede geometrik bir plot alacağız."
   ]
  },
  {
   "cell_type": "code",
   "execution_count": null,
   "metadata": {
    "scrolled": true
   },
   "outputs": [],
   "source": [
    "zrt.to_file('tmp')   # zrt datasını tmp dosyasına ye atıyoruz \n",
    "w =Queen.from_shapefile('C:\\\\Users\\\\user\\\\Desktop\\\\Arastirma Gorevi\\\\tmp\\\\tmp.shp', idVariable='zipcode')\n",
    "# Queen spatial weight teknigiyle iki alanın komsu olup olmadıgını belirleyebiliyoruz. Burda onu yapıyoruz.\n",
    "\n",
    "os.remove('C:\\\\Users\\\\user\\\\Desktop\\\\Arastirma Gorevi\\\\tmp\\\\tmp.shp') # tmp dosyasını siliyoruz\n",
    "\n",
    "\n",
    "# Burda zipcode ların sahip oldukları weightleri görüyoruz. Her 1 sayısı bir komsusu oldugunu belirtir.\n",
    "queen_card = pd.Series(w.cardinalities)\n",
    "queen_card.head()\n",
    "sns.distplot(queen_card, bins=10)\n",
    "# daha iyi anlamak için görselleştirdim"
   ]
  },
  {
   "cell_type": "code",
   "execution_count": null,
   "metadata": {},
   "outputs": [],
   "source": [
    "n_rev = lst.groupby('zipcode')\\\n",
    "           .sum()\\\n",
    "           ['number_of_reviews']\\\n",
    "           .rename(lambda x: str(int(x)))\\\n",
    "           .reindex(zrt['zipcode'])\n",
    "thr = np.round(0.1 * n_rev.sum())\n",
    "thr\n",
    "# Burda görüntüleyeceğimiz bölgelerin en az toplam görüntülenmenin %10 una sahip olması için \n",
    "# toplam görüntülenmenin %10'unu hesaplıyoruz"
   ]
  },
  {
   "cell_type": "code",
   "execution_count": null,
   "metadata": {},
   "outputs": [],
   "source": [
    "np.random.seed(1234)  # tek ve belirli bir random number yaratmak için kullanılıyor\n",
    "\n",
    "z = zrt.drop(['geometry', 'zipcode'], axis=1).values \n",
    "# önceden yaptıgımız gibi datanın sadece variablelarını alıyor ki maxp yi beslesin\n",
    "maxp = ps.region.Maxp(w, z, thr, n_rev.values[:, None],initial=1000)  # %10 altındaki değerleri elimine ediyor\n",
    "# maxp =>  review sayılarının toplamına göre bir gruplama yapıyor."
   ]
  },
  {
   "cell_type": "code",
   "execution_count": null,
   "metadata": {},
   "outputs": [],
   "source": [
    "%%time\n",
    "np.random.seed(1234)\n",
    "maxp.cinference(nperm=999)"
   ]
  },
  {
   "cell_type": "code",
   "execution_count": null,
   "metadata": {},
   "outputs": [],
   "source": [
    "maxp.cpvalue"
   ]
  },
  {
   "cell_type": "code",
   "execution_count": null,
   "metadata": {
    "scrolled": false
   },
   "outputs": [],
   "source": [
    "lbls = pd.Series(maxp.area2region).reindex(zrt['zipcode'])  \n",
    "# dataları işaretlemek için maxp ile elde ettiğimiz işaretlemeleri zipcode ile birleştiriyoruz."
   ]
  },
  {
   "cell_type": "code",
   "execution_count": null,
   "metadata": {},
   "outputs": [],
   "source": [
    "f, ax = plt.subplots(1, figsize=(9, 9))\n",
    "\n",
    "zrt.assign(cl=lbls.values)\\\n",
    "   .plot(column='cl', categorical=True, legend=True, \\\n",
    "         linewidth=0.1, edgecolor='white', ax=ax)\n",
    "\n",
    "ax.set_axis_off()\n",
    "\n",
    "plt.show()"
   ]
  },
  {
   "cell_type": "code",
   "execution_count": null,
   "metadata": {},
   "outputs": [],
   "source": [
    "zrt[ratings].groupby(lbls.values).mean().T"
   ]
  },
  {
   "cell_type": "code",
   "execution_count": null,
   "metadata": {},
   "outputs": [],
   "source": []
  },
  {
   "cell_type": "code",
   "execution_count": null,
   "metadata": {},
   "outputs": [],
   "source": []
  }
 ],
 "metadata": {
  "kernelspec": {
   "display_name": "Python 3",
   "language": "python",
   "name": "python3"
  },
  "language_info": {
   "codemirror_mode": {
    "name": "ipython",
    "version": 3
   },
   "file_extension": ".py",
   "mimetype": "text/x-python",
   "name": "python",
   "nbconvert_exporter": "python",
   "pygments_lexer": "ipython3",
   "version": "3.8.3"
  }
 },
 "nbformat": 4,
 "nbformat_minor": 4
}
