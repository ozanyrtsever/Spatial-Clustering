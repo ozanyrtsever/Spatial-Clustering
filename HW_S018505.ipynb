{
 "cells": [
  {
   "cell_type": "code",
   "execution_count": 3,
   "metadata": {},
   "outputs": [
    {
     "name": "stdout",
     "output_type": "stream",
     "text": [
      "Title :  COEFFICIENTS:a,b,c to form ax^2+bx+c=0\n",
      "\n"
     ]
    },
    {
     "ename": "ValueError",
     "evalue": "I/O operation on closed file.",
     "output_type": "error",
     "traceback": [
      "\u001b[1;31m---------------------------------------------------------------------------\u001b[0m",
      "\u001b[1;31mValueError\u001b[0m                                Traceback (most recent call last)",
      "\u001b[1;32m<ipython-input-3-802ecfdef592>\u001b[0m in \u001b[0;36m<module>\u001b[1;34m\u001b[0m\n\u001b[0;32m     35\u001b[0m \u001b[1;33m\u001b[0m\u001b[0m\n\u001b[0;32m     36\u001b[0m \u001b[1;33m\u001b[0m\u001b[0m\n\u001b[1;32m---> 37\u001b[1;33m \u001b[0mf_list\u001b[0m \u001b[1;33m=\u001b[0m \u001b[0mf\u001b[0m\u001b[1;33m.\u001b[0m\u001b[0mreadlines\u001b[0m\u001b[1;33m(\u001b[0m\u001b[1;33m)\u001b[0m \u001b[1;31m#Except first line I place every line of the text as elements of\u001b[0m\u001b[1;33m\u001b[0m\u001b[1;33m\u001b[0m\u001b[0m\n\u001b[0m\u001b[0;32m     38\u001b[0m \u001b[0mf_list_proper\u001b[0m \u001b[1;33m=\u001b[0m \u001b[0mlist\u001b[0m\u001b[1;33m(\u001b[0m\u001b[1;33m)\u001b[0m \u001b[1;31m#I declare an empty list to transfer my list to this list without unwanted situations such as tabs between characters.\u001b[0m\u001b[1;33m\u001b[0m\u001b[1;33m\u001b[0m\u001b[0m\n\u001b[0;32m     39\u001b[0m \u001b[1;33m\u001b[0m\u001b[0m\n",
      "\u001b[1;31mValueError\u001b[0m: I/O operation on closed file."
     ]
    }
   ],
   "source": [
    "def RealRootCalculator(a,b,c): #Function for calculating roots and determining\n",
    "                               # 3 element int lists which first element is 0 and print that not 2nd order equation\n",
    "\n",
    "    delta=(b**2)-4*a*c #To determine characteristics of roots we look at delta\n",
    "\n",
    "    if a==0:  #For special cases which are 3 coefficients and a=0 I get coefficients in the function and declare that they are not second order\n",
    "\n",
    "        print(\"Not Second Order Equation\")\n",
    "        ff.write(\"Not Second Order Equation\\n\")\n",
    "\n",
    "    elif delta==0:\n",
    "        print(\"One Real Root : {} \".format(-b/(2*a)))\n",
    "        ff.write(\"One Real Root : {}\\n \".format(-b/(2*a)))\n",
    "\n",
    "    elif delta>0: #I do not declare my x1 and x2 at top of function because a=0 will throw error because of 0 cannot be at denominator\n",
    "\n",
    "        x1 = (-b + (b ** 2 - 4 * a * c) ** (1 / 2)) / (2 * a)\n",
    "        x2 = (-b - (b ** 2 - 4 * a * c) ** (1 / 2)) / (2 * a)\n",
    "\n",
    "        ff.write(\"Two Real Roots x1 = {} , x2 = {}\\n\".format(x1,x2))\n",
    "        print(\"Two Real Roots x1 = {} ,x2 = {}\".format(x1,x2))\n",
    "\n",
    "    elif delta<0:\n",
    "        print(\"No Real Roots\")\n",
    "        ff.write(\"No Real Roots\\n\")\n",
    "\n",
    "\n",
    "f = open(\"coeff.txt\", 'r', encoding='utf-8') #Opened to read our coeff.txt\n",
    "\n",
    "ff = open(\"output.txt\",\"w+\") #Opened to write my outputs at text file output.txt\n",
    "\n",
    "Title=f.readline() #As stated I write title line seperately\n",
    "print(\"Title : \",Title)\n",
    "f.close()\n",
    "\n",
    "\n",
    "f_list = f.readlines() #Except first line I place every line of the text as elements of\n",
    "f_list_proper = list() #I declare an empty list to transfer my list to this list without unwanted situations such as tabs between characters.\n",
    "\n",
    "for i in f_list: #I use for loop to get rid off the tabs between characters and get ridd of \\n character also split elements with \",\".\n",
    "                 #Without unwanted elements we create sublists for every coefficient group\n",
    "\n",
    "    f_list_proper.append(i.replace(\"\\n\",\"\").replace(\" \",\"\").strip().split(\",\"))\n",
    "\n",
    "for line in f_list_proper: #I use loop for print list as column (every element at one row)\n",
    "\n",
    "    column_line = [a for a in line] #I try to make print every sublist as a list and print them seperately\n",
    "\n",
    "    cnl = [int(ele) if ele.lstrip(\"+-\").isnumeric() else ele for ele in column_line] #I convert numeric strings into int for usinf RealRootCalculator and use my numbers as int\n",
    "                                                                                     # for practical purposes. (cnl = column number line) ==> Implies numerics converted to int\n",
    "\n",
    "    for j in range(0,len(cnl)): #Now I am iterate over my sub lists which I print them as a column and made every row one of the sublists\n",
    "\n",
    "        if cnl[j]==\"\": #If line is empty my program declares This line is empty\n",
    "\n",
    "            print(\"Empty Line\")\n",
    "            ff.write(\"Empty Line\\n\")\n",
    "            break\n",
    "\n",
    "        elif sum(isinstance(i,str) for i in cnl)>0: #If a list consist str element this elif block allows me to find out.\n",
    "                                                    # isinstance(obj,type) determines an object is wanted type. If it is at wanted type it returns True=1 .So we only iterate through int\n",
    "                                                    # from that iteration we determine how many object exist and all the correct types returns as 1. So with sum() we sum these 1's\n",
    "                                                    # we find out how many integers exist in the list.\n",
    "\n",
    "\n",
    "\n",
    "            print(\"Invalid Input!!! There are non numerical inputs.\")\n",
    "            ff.write(\"Invalid Input!!! There are non numerical inputs.\\n\")\n",
    "\n",
    "            break\n",
    "\n",
    "        elif sum(isinstance(i,int) for i in cnl)==3 and len(cnl)==3: #If list has got 3 integers and lenght of list equals 3 we can calulate it at real root calculator\n",
    "            RealRootCalculator(cnl[j],cnl[j+1],cnl[j+2])\n",
    "            break\n",
    "\n",
    "        elif sum(isinstance(i,int) for i in cnl)!=3: #If number of integers not equal to 3 we can say that it is not second order equation.\n",
    "            print(\"Not Second Order Equation.\")\n",
    "            ff.write(\"Not Second Order Equation. \")\n",
    "            break\n",
    "ff.close()\n"
   ]
  },
  {
   "cell_type": "code",
   "execution_count": null,
   "metadata": {},
   "outputs": [],
   "source": []
  }
 ],
 "metadata": {
  "kernelspec": {
   "display_name": "Python 3",
   "language": "python",
   "name": "python3"
  },
  "language_info": {
   "codemirror_mode": {
    "name": "ipython",
    "version": 3
   },
   "file_extension": ".py",
   "mimetype": "text/x-python",
   "name": "python",
   "nbconvert_exporter": "python",
   "pygments_lexer": "ipython3",
   "version": "3.8.3"
  }
 },
 "nbformat": 4,
 "nbformat_minor": 4
}
